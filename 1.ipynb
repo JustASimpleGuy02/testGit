{
 "cells": [
  {
   "cell_type": "markdown",
   "metadata": {},
   "source": [
    "123"
   ]
  }
 ],
 "metadata": {
  "kernelspec": {
   "display_name": "Python 3.8.13 ('namph')",
   "language": "python",
   "name": "python3"
  },
  "language_info": {
   "name": "python",
   "version": "3.8.13"
  },
  "orig_nbformat": 4,
  "vscode": {
   "interpreter": {
    "hash": "7ddc8e10f8551f3f04bc53fd99cf0984121f3f8196efa3b3fb7325f857bbd112"
   }
  }
 },
 "nbformat": 4,
 "nbformat_minor": 2
}
